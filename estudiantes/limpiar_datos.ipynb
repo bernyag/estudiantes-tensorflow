{
 "cells": [
  {
   "cell_type": "code",
   "execution_count": 1,
   "metadata": {},
   "outputs": [],
   "source": [
    "import pandas as pd\n",
    "import matplotlib.pyplot as plt"
   ]
  },
  {
   "cell_type": "markdown",
   "metadata": {},
   "source": [
    "## Leer el CSV"
   ]
  },
  {
   "cell_type": "code",
   "execution_count": 2,
   "metadata": {},
   "outputs": [
    {
     "output_type": "execute_result",
     "data": {
      "text/plain": [
       "  school sex  age address famsize Pstatus  Medu  Fedu     Mjob      Fjob  ...  \\\n",
       "0     GP   F   18       U     GT3       A     4     4  at_home   teacher  ...   \n",
       "1     GP   F   17       U     GT3       T     1     1  at_home     other  ...   \n",
       "2     GP   F   15       U     LE3       T     1     1  at_home     other  ...   \n",
       "3     GP   F   15       U     GT3       T     4     2   health  services  ...   \n",
       "4     GP   F   16       U     GT3       T     3     3    other     other  ...   \n",
       "\n",
       "  famrel freetime  goout  Dalc  Walc health absences  G1  G2  G3  \n",
       "0      4        3      4     1     1      3        6   5   6   6  \n",
       "1      5        3      3     1     1      3        4   5   5   6  \n",
       "2      4        3      2     2     3      3       10   7   8  10  \n",
       "3      3        2      2     1     1      5        2  15  14  15  \n",
       "4      4        3      2     1     2      5        4   6  10  10  \n",
       "\n",
       "[5 rows x 33 columns]"
      ],
      "text/html": "<div>\n<style scoped>\n    .dataframe tbody tr th:only-of-type {\n        vertical-align: middle;\n    }\n\n    .dataframe tbody tr th {\n        vertical-align: top;\n    }\n\n    .dataframe thead th {\n        text-align: right;\n    }\n</style>\n<table border=\"1\" class=\"dataframe\">\n  <thead>\n    <tr style=\"text-align: right;\">\n      <th></th>\n      <th>school</th>\n      <th>sex</th>\n      <th>age</th>\n      <th>address</th>\n      <th>famsize</th>\n      <th>Pstatus</th>\n      <th>Medu</th>\n      <th>Fedu</th>\n      <th>Mjob</th>\n      <th>Fjob</th>\n      <th>...</th>\n      <th>famrel</th>\n      <th>freetime</th>\n      <th>goout</th>\n      <th>Dalc</th>\n      <th>Walc</th>\n      <th>health</th>\n      <th>absences</th>\n      <th>G1</th>\n      <th>G2</th>\n      <th>G3</th>\n    </tr>\n  </thead>\n  <tbody>\n    <tr>\n      <th>0</th>\n      <td>GP</td>\n      <td>F</td>\n      <td>18</td>\n      <td>U</td>\n      <td>GT3</td>\n      <td>A</td>\n      <td>4</td>\n      <td>4</td>\n      <td>at_home</td>\n      <td>teacher</td>\n      <td>...</td>\n      <td>4</td>\n      <td>3</td>\n      <td>4</td>\n      <td>1</td>\n      <td>1</td>\n      <td>3</td>\n      <td>6</td>\n      <td>5</td>\n      <td>6</td>\n      <td>6</td>\n    </tr>\n    <tr>\n      <th>1</th>\n      <td>GP</td>\n      <td>F</td>\n      <td>17</td>\n      <td>U</td>\n      <td>GT3</td>\n      <td>T</td>\n      <td>1</td>\n      <td>1</td>\n      <td>at_home</td>\n      <td>other</td>\n      <td>...</td>\n      <td>5</td>\n      <td>3</td>\n      <td>3</td>\n      <td>1</td>\n      <td>1</td>\n      <td>3</td>\n      <td>4</td>\n      <td>5</td>\n      <td>5</td>\n      <td>6</td>\n    </tr>\n    <tr>\n      <th>2</th>\n      <td>GP</td>\n      <td>F</td>\n      <td>15</td>\n      <td>U</td>\n      <td>LE3</td>\n      <td>T</td>\n      <td>1</td>\n      <td>1</td>\n      <td>at_home</td>\n      <td>other</td>\n      <td>...</td>\n      <td>4</td>\n      <td>3</td>\n      <td>2</td>\n      <td>2</td>\n      <td>3</td>\n      <td>3</td>\n      <td>10</td>\n      <td>7</td>\n      <td>8</td>\n      <td>10</td>\n    </tr>\n    <tr>\n      <th>3</th>\n      <td>GP</td>\n      <td>F</td>\n      <td>15</td>\n      <td>U</td>\n      <td>GT3</td>\n      <td>T</td>\n      <td>4</td>\n      <td>2</td>\n      <td>health</td>\n      <td>services</td>\n      <td>...</td>\n      <td>3</td>\n      <td>2</td>\n      <td>2</td>\n      <td>1</td>\n      <td>1</td>\n      <td>5</td>\n      <td>2</td>\n      <td>15</td>\n      <td>14</td>\n      <td>15</td>\n    </tr>\n    <tr>\n      <th>4</th>\n      <td>GP</td>\n      <td>F</td>\n      <td>16</td>\n      <td>U</td>\n      <td>GT3</td>\n      <td>T</td>\n      <td>3</td>\n      <td>3</td>\n      <td>other</td>\n      <td>other</td>\n      <td>...</td>\n      <td>4</td>\n      <td>3</td>\n      <td>2</td>\n      <td>1</td>\n      <td>2</td>\n      <td>5</td>\n      <td>4</td>\n      <td>6</td>\n      <td>10</td>\n      <td>10</td>\n    </tr>\n  </tbody>\n</table>\n<p>5 rows × 33 columns</p>\n</div>"
     },
     "metadata": {},
     "execution_count": 2
    }
   ],
   "source": [
    "mat = pd.read_csv('student-mat.csv', sep=';')\n",
    "mat.head()"
   ]
  },
  {
   "cell_type": "code",
   "execution_count": 3,
   "metadata": {},
   "outputs": [],
   "source": [
    "mat2 = mat"
   ]
  },
  {
   "cell_type": "markdown",
   "metadata": {},
   "source": [
    "## Quitar columnas innecesarias"
   ]
  },
  {
   "cell_type": "code",
   "execution_count": 4,
   "metadata": {},
   "outputs": [],
   "source": [
    "mat2 = mat2.drop(columns = ['school','age', 'Medu', 'Fedu','Mjob','Fjob', 'Dalc', 'reason'], axis = 1)"
   ]
  },
  {
   "cell_type": "markdown",
   "metadata": {},
   "source": [
    "## Hacer encoding con lambda"
   ]
  },
  {
   "cell_type": "code",
   "execution_count": 5,
   "metadata": {},
   "outputs": [],
   "source": [
    "mat2['sex'] = mat2.sex.apply(lambda v: 0 if v =='F' else 1 )"
   ]
  },
  {
   "cell_type": "code",
   "execution_count": 6,
   "metadata": {},
   "outputs": [],
   "source": [
    "mat2['famsize'] = mat2.famsize.apply(lambda v: 0 if v =='LE3' else 1 )"
   ]
  },
  {
   "cell_type": "code",
   "execution_count": 7,
   "metadata": {},
   "outputs": [],
   "source": [
    "mat2['address'] = mat2.address.apply(lambda v: 0 if v =='U' else 1)"
   ]
  },
  {
   "cell_type": "code",
   "execution_count": 8,
   "metadata": {},
   "outputs": [],
   "source": [
    "mat2['Pstatus'] = mat2.Pstatus.apply(lambda v: 0 if v =='T' else 1 )"
   ]
  },
  {
   "cell_type": "code",
   "execution_count": 9,
   "metadata": {},
   "outputs": [],
   "source": [
    "mat2['absences'] = mat2.absences.apply(lambda v: v/93)"
   ]
  },
  {
   "cell_type": "code",
   "execution_count": 10,
   "metadata": {},
   "outputs": [],
   "source": [
    "mat2['schoolsup'] = mat2.schoolsup.apply(lambda v: 0 if v =='no' else 1 )"
   ]
  },
  {
   "cell_type": "code",
   "execution_count": 11,
   "metadata": {},
   "outputs": [],
   "source": [
    "mat2['health'] = mat2.health.apply(lambda v: (v-1)/4)"
   ]
  },
  {
   "cell_type": "code",
   "execution_count": 12,
   "metadata": {},
   "outputs": [],
   "source": [
    "mat2['famsup'] = mat2.famsup.apply(lambda v: 0 if v =='no' else 1 )"
   ]
  },
  {
   "cell_type": "code",
   "execution_count": 13,
   "metadata": {},
   "outputs": [],
   "source": [
    "mat2['paid'] = mat2.paid.apply(lambda v: 0 if v =='no' else 1 )"
   ]
  },
  {
   "cell_type": "code",
   "execution_count": 14,
   "metadata": {},
   "outputs": [],
   "source": [
    "mat2['activities'] = mat2.activities.apply(lambda v: 0 if v =='no' else 1 )"
   ]
  },
  {
   "cell_type": "code",
   "execution_count": 15,
   "metadata": {},
   "outputs": [],
   "source": [
    "mat2['nursery'] = mat2.nursery.apply(lambda v: 0 if v =='no' else 1 )"
   ]
  },
  {
   "cell_type": "code",
   "execution_count": 16,
   "metadata": {},
   "outputs": [],
   "source": [
    "mat2['higher'] = mat2.higher.apply(lambda v: 0 if v =='no' else 1 )"
   ]
  },
  {
   "cell_type": "code",
   "execution_count": 17,
   "metadata": {},
   "outputs": [],
   "source": [
    "mat2['internet'] = mat2.internet.apply(lambda v: 0 if v =='no' else 1 )"
   ]
  },
  {
   "cell_type": "code",
   "execution_count": 18,
   "metadata": {},
   "outputs": [],
   "source": [
    "mat2['romantic'] = mat2.romantic.apply(lambda v: 0 if v =='no' else 1 )"
   ]
  },
  {
   "cell_type": "code",
   "execution_count": 19,
   "metadata": {},
   "outputs": [],
   "source": [
    "mat2['Walc'] = mat2.Walc.apply(lambda v: (v-1)/4)"
   ]
  },
  {
   "cell_type": "code",
   "execution_count": 20,
   "metadata": {},
   "outputs": [],
   "source": [
    "mat2['freetime'] = mat2.freetime.apply(lambda v: (v-1)/4)"
   ]
  },
  {
   "cell_type": "code",
   "execution_count": 21,
   "metadata": {},
   "outputs": [],
   "source": [
    "mat2['goout'] = mat2.goout.apply(lambda v: (v-1)/4)"
   ]
  },
  {
   "cell_type": "code",
   "execution_count": 22,
   "metadata": {},
   "outputs": [],
   "source": [
    "mat2['studytime'] = mat2.studytime.apply(lambda v: (v-1)/3)"
   ]
  },
  {
   "cell_type": "code",
   "execution_count": 23,
   "metadata": {},
   "outputs": [],
   "source": [
    "mat2['traveltime'] = mat2.traveltime.apply(lambda v: (v-1)/3)"
   ]
  },
  {
   "cell_type": "code",
   "execution_count": 24,
   "metadata": {},
   "outputs": [],
   "source": [
    "mat2['famrel'] = mat2.famrel.apply(lambda v: (v-1)/4)"
   ]
  },
  {
   "cell_type": "markdown",
   "metadata": {},
   "source": [
    "## Poner un criterio para pasar la materia"
   ]
  },
  {
   "cell_type": "code",
   "execution_count": 25,
   "metadata": {},
   "outputs": [
    {
     "output_type": "execute_result",
     "data": {
      "text/plain": [
       "   sex  address  famsize  Pstatus guardian  traveltime  studytime  failures  \\\n",
       "0    0        0        1        1   mother    0.333333   0.333333         0   \n",
       "1    0        0        1        0   father    0.000000   0.333333         0   \n",
       "2    0        0        0        0   mother    0.000000   0.333333         3   \n",
       "3    0        0        1        0   mother    0.000000   0.666667         0   \n",
       "4    0        0        1        0   father    0.000000   0.333333         0   \n",
       "\n",
       "   schoolsup  famsup  ...  romantic  famrel  freetime  goout  Walc  health  \\\n",
       "0          1       0  ...         0    0.75      0.50   0.75  0.00     0.5   \n",
       "1          0       1  ...         0    1.00      0.50   0.50  0.00     0.5   \n",
       "2          1       0  ...         0    0.75      0.50   0.25  0.50     0.5   \n",
       "3          0       1  ...         1    0.50      0.25   0.25  0.00     1.0   \n",
       "4          0       1  ...         0    0.75      0.50   0.25  0.25     1.0   \n",
       "\n",
       "   absences  G1  G2  G3  \n",
       "0  0.064516   5   6   6  \n",
       "1  0.043011   5   5   6  \n",
       "2  0.107527   7   8  10  \n",
       "3  0.021505  15  14  15  \n",
       "4  0.043011   6  10  10  \n",
       "\n",
       "[5 rows x 25 columns]"
      ],
      "text/html": "<div>\n<style scoped>\n    .dataframe tbody tr th:only-of-type {\n        vertical-align: middle;\n    }\n\n    .dataframe tbody tr th {\n        vertical-align: top;\n    }\n\n    .dataframe thead th {\n        text-align: right;\n    }\n</style>\n<table border=\"1\" class=\"dataframe\">\n  <thead>\n    <tr style=\"text-align: right;\">\n      <th></th>\n      <th>sex</th>\n      <th>address</th>\n      <th>famsize</th>\n      <th>Pstatus</th>\n      <th>guardian</th>\n      <th>traveltime</th>\n      <th>studytime</th>\n      <th>failures</th>\n      <th>schoolsup</th>\n      <th>famsup</th>\n      <th>...</th>\n      <th>romantic</th>\n      <th>famrel</th>\n      <th>freetime</th>\n      <th>goout</th>\n      <th>Walc</th>\n      <th>health</th>\n      <th>absences</th>\n      <th>G1</th>\n      <th>G2</th>\n      <th>G3</th>\n    </tr>\n  </thead>\n  <tbody>\n    <tr>\n      <th>0</th>\n      <td>0</td>\n      <td>0</td>\n      <td>1</td>\n      <td>1</td>\n      <td>mother</td>\n      <td>0.333333</td>\n      <td>0.333333</td>\n      <td>0</td>\n      <td>1</td>\n      <td>0</td>\n      <td>...</td>\n      <td>0</td>\n      <td>0.75</td>\n      <td>0.50</td>\n      <td>0.75</td>\n      <td>0.00</td>\n      <td>0.5</td>\n      <td>0.064516</td>\n      <td>5</td>\n      <td>6</td>\n      <td>6</td>\n    </tr>\n    <tr>\n      <th>1</th>\n      <td>0</td>\n      <td>0</td>\n      <td>1</td>\n      <td>0</td>\n      <td>father</td>\n      <td>0.000000</td>\n      <td>0.333333</td>\n      <td>0</td>\n      <td>0</td>\n      <td>1</td>\n      <td>...</td>\n      <td>0</td>\n      <td>1.00</td>\n      <td>0.50</td>\n      <td>0.50</td>\n      <td>0.00</td>\n      <td>0.5</td>\n      <td>0.043011</td>\n      <td>5</td>\n      <td>5</td>\n      <td>6</td>\n    </tr>\n    <tr>\n      <th>2</th>\n      <td>0</td>\n      <td>0</td>\n      <td>0</td>\n      <td>0</td>\n      <td>mother</td>\n      <td>0.000000</td>\n      <td>0.333333</td>\n      <td>3</td>\n      <td>1</td>\n      <td>0</td>\n      <td>...</td>\n      <td>0</td>\n      <td>0.75</td>\n      <td>0.50</td>\n      <td>0.25</td>\n      <td>0.50</td>\n      <td>0.5</td>\n      <td>0.107527</td>\n      <td>7</td>\n      <td>8</td>\n      <td>10</td>\n    </tr>\n    <tr>\n      <th>3</th>\n      <td>0</td>\n      <td>0</td>\n      <td>1</td>\n      <td>0</td>\n      <td>mother</td>\n      <td>0.000000</td>\n      <td>0.666667</td>\n      <td>0</td>\n      <td>0</td>\n      <td>1</td>\n      <td>...</td>\n      <td>1</td>\n      <td>0.50</td>\n      <td>0.25</td>\n      <td>0.25</td>\n      <td>0.00</td>\n      <td>1.0</td>\n      <td>0.021505</td>\n      <td>15</td>\n      <td>14</td>\n      <td>15</td>\n    </tr>\n    <tr>\n      <th>4</th>\n      <td>0</td>\n      <td>0</td>\n      <td>1</td>\n      <td>0</td>\n      <td>father</td>\n      <td>0.000000</td>\n      <td>0.333333</td>\n      <td>0</td>\n      <td>0</td>\n      <td>1</td>\n      <td>...</td>\n      <td>0</td>\n      <td>0.75</td>\n      <td>0.50</td>\n      <td>0.25</td>\n      <td>0.25</td>\n      <td>1.0</td>\n      <td>0.043011</td>\n      <td>6</td>\n      <td>10</td>\n      <td>10</td>\n    </tr>\n  </tbody>\n</table>\n<p>5 rows × 25 columns</p>\n</div>"
     },
     "metadata": {},
     "execution_count": 25
    }
   ],
   "source": [
    "#mat2['Improve'] = mat2.G2-mat2.G1\n",
    "mat2.head()"
   ]
  },
  {
   "cell_type": "code",
   "execution_count": 26,
   "metadata": {},
   "outputs": [],
   "source": [
    "mat2['G1'] = mat2.G1.apply(lambda v: 0 if v<12 else 1)\n",
    "mat2['G2'] = mat2.G2.apply(lambda v: 0 if v<12 else 1)\n",
    "mat2['G3'] = mat2.G3.apply(lambda v: 0 if v<12 else 1)\n",
    "#mat2['Improve'] = mat2.Improve.apply(lambda v: 0 if v<0 else 1)\n"
   ]
  },
  {
   "cell_type": "markdown",
   "metadata": {},
   "source": [
    "## One hot encoding"
   ]
  },
  {
   "cell_type": "code",
   "execution_count": 27,
   "metadata": {},
   "outputs": [],
   "source": [
    "tmp = pd.get_dummies(mat2.guardian,prefix = 'guardian', drop_first=True)\n",
    "mat2 = pd.concat([mat2, tmp], axis=1 )\n",
    "mat2 = mat2.drop(columns = ['guardian'], axis = 1)"
   ]
  },
  {
   "cell_type": "code",
   "execution_count": 28,
   "metadata": {},
   "outputs": [],
   "source": [
    "tmp = pd.get_dummies(mat2.failures,prefix = 'failures', drop_first=True)\n",
    "mat2 = pd.concat([mat2, tmp], axis=1 )\n",
    "mat2 = mat2.drop(columns = ['failures'], axis = 1)"
   ]
  },
  {
   "cell_type": "code",
   "execution_count": 29,
   "metadata": {},
   "outputs": [
    {
     "output_type": "execute_result",
     "data": {
      "text/plain": [
       "     sex  address  famsize  Pstatus  traveltime  studytime  schoolsup  famsup  \\\n",
       "332    0        0        1        0    0.000000   0.333333          0       0   \n",
       "213    1        0        1        0    0.000000   0.333333          0       1   \n",
       "228    1        0        0        0    1.000000   0.333333          1       1   \n",
       "302    0        0        1        0    0.333333   0.666667          0       1   \n",
       "158    1        1        1        0    0.666667   0.000000          0       0   \n",
       "\n",
       "     paid  activities  ...  health  absences  G1  G2  G3  guardian_mother  \\\n",
       "332     0           1  ...    0.75  0.000000   0   0   0                1   \n",
       "213     1           1  ...    1.00  0.161290   0   0   0                1   \n",
       "228     1           1  ...    0.50  0.150538   0   0   0                1   \n",
       "302     1           0  ...    0.50  0.000000   1   1   1                1   \n",
       "158     0           0  ...    0.50  0.021505   1   1   1                1   \n",
       "\n",
       "     guardian_other  failures_1  failures_2  failures_3  \n",
       "332               0           0           0           0  \n",
       "213               0           1           0           0  \n",
       "228               0           0           0           0  \n",
       "302               0           0           0           0  \n",
       "158               0           0           0           0  \n",
       "\n",
       "[5 rows x 28 columns]"
      ],
      "text/html": "<div>\n<style scoped>\n    .dataframe tbody tr th:only-of-type {\n        vertical-align: middle;\n    }\n\n    .dataframe tbody tr th {\n        vertical-align: top;\n    }\n\n    .dataframe thead th {\n        text-align: right;\n    }\n</style>\n<table border=\"1\" class=\"dataframe\">\n  <thead>\n    <tr style=\"text-align: right;\">\n      <th></th>\n      <th>sex</th>\n      <th>address</th>\n      <th>famsize</th>\n      <th>Pstatus</th>\n      <th>traveltime</th>\n      <th>studytime</th>\n      <th>schoolsup</th>\n      <th>famsup</th>\n      <th>paid</th>\n      <th>activities</th>\n      <th>...</th>\n      <th>health</th>\n      <th>absences</th>\n      <th>G1</th>\n      <th>G2</th>\n      <th>G3</th>\n      <th>guardian_mother</th>\n      <th>guardian_other</th>\n      <th>failures_1</th>\n      <th>failures_2</th>\n      <th>failures_3</th>\n    </tr>\n  </thead>\n  <tbody>\n    <tr>\n      <th>332</th>\n      <td>0</td>\n      <td>0</td>\n      <td>1</td>\n      <td>0</td>\n      <td>0.000000</td>\n      <td>0.333333</td>\n      <td>0</td>\n      <td>0</td>\n      <td>0</td>\n      <td>1</td>\n      <td>...</td>\n      <td>0.75</td>\n      <td>0.000000</td>\n      <td>0</td>\n      <td>0</td>\n      <td>0</td>\n      <td>1</td>\n      <td>0</td>\n      <td>0</td>\n      <td>0</td>\n      <td>0</td>\n    </tr>\n    <tr>\n      <th>213</th>\n      <td>1</td>\n      <td>0</td>\n      <td>1</td>\n      <td>0</td>\n      <td>0.000000</td>\n      <td>0.333333</td>\n      <td>0</td>\n      <td>1</td>\n      <td>1</td>\n      <td>1</td>\n      <td>...</td>\n      <td>1.00</td>\n      <td>0.161290</td>\n      <td>0</td>\n      <td>0</td>\n      <td>0</td>\n      <td>1</td>\n      <td>0</td>\n      <td>1</td>\n      <td>0</td>\n      <td>0</td>\n    </tr>\n    <tr>\n      <th>228</th>\n      <td>1</td>\n      <td>0</td>\n      <td>0</td>\n      <td>0</td>\n      <td>1.000000</td>\n      <td>0.333333</td>\n      <td>1</td>\n      <td>1</td>\n      <td>1</td>\n      <td>1</td>\n      <td>...</td>\n      <td>0.50</td>\n      <td>0.150538</td>\n      <td>0</td>\n      <td>0</td>\n      <td>0</td>\n      <td>1</td>\n      <td>0</td>\n      <td>0</td>\n      <td>0</td>\n      <td>0</td>\n    </tr>\n    <tr>\n      <th>302</th>\n      <td>0</td>\n      <td>0</td>\n      <td>1</td>\n      <td>0</td>\n      <td>0.333333</td>\n      <td>0.666667</td>\n      <td>0</td>\n      <td>1</td>\n      <td>1</td>\n      <td>0</td>\n      <td>...</td>\n      <td>0.50</td>\n      <td>0.000000</td>\n      <td>1</td>\n      <td>1</td>\n      <td>1</td>\n      <td>1</td>\n      <td>0</td>\n      <td>0</td>\n      <td>0</td>\n      <td>0</td>\n    </tr>\n    <tr>\n      <th>158</th>\n      <td>1</td>\n      <td>1</td>\n      <td>1</td>\n      <td>0</td>\n      <td>0.666667</td>\n      <td>0.000000</td>\n      <td>0</td>\n      <td>0</td>\n      <td>0</td>\n      <td>0</td>\n      <td>...</td>\n      <td>0.50</td>\n      <td>0.021505</td>\n      <td>1</td>\n      <td>1</td>\n      <td>1</td>\n      <td>1</td>\n      <td>0</td>\n      <td>0</td>\n      <td>0</td>\n      <td>0</td>\n    </tr>\n  </tbody>\n</table>\n<p>5 rows × 28 columns</p>\n</div>"
     },
     "metadata": {},
     "execution_count": 29
    }
   ],
   "source": [
    "mat2.sample(5)"
   ]
  },
  {
   "cell_type": "markdown",
   "metadata": {},
   "source": [
    "## Correlación"
   ]
  },
  {
   "cell_type": "code",
   "execution_count": 30,
   "metadata": {},
   "outputs": [
    {
     "output_type": "display_data",
     "data": {
      "text/plain": "<Figure size 288x288 with 1 Axes>",
      "image/svg+xml": "<?xml version=\"1.0\" encoding=\"utf-8\" standalone=\"no\"?>\n<!DOCTYPE svg PUBLIC \"-//W3C//DTD SVG 1.1//EN\"\n  \"http://www.w3.org/Graphics/SVG/1.1/DTD/svg11.dtd\">\n<!-- Created with matplotlib (https://matplotlib.org/) -->\n<svg height=\"257.778125pt\" version=\"1.1\" viewBox=\"0 0 260.825 257.778125\" width=\"260.825pt\" xmlns=\"http://www.w3.org/2000/svg\" xmlns:xlink=\"http://www.w3.org/1999/xlink\">\n <defs>\n  <style type=\"text/css\">\n*{stroke-linecap:butt;stroke-linejoin:round;}\n  </style>\n </defs>\n <g id=\"figure_1\">\n  <g id=\"patch_1\">\n   <path d=\"M 0 257.778125 \nL 260.825 257.778125 \nL 260.825 0 \nL 0 0 \nz\n\" style=\"fill:none;\"/>\n  </g>\n  <g id=\"axes_1\">\n   <g id=\"patch_2\">\n    <path d=\"M 26.925 247.078125 \nL 250.125 247.078125 \nL 250.125 23.878125 \nL 26.925 23.878125 \nz\n\" style=\"fill:#ffffff;\"/>\n   </g>\n   <g clip-path=\"url(#pec7a51611a)\">\n    <image height=\"224\" id=\"image2c4eadb512\" transform=\"scale(1 -1)translate(0 -224)\" width=\"224\" x=\"26.925\" xlink:href=\"data:image/png;base64,\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\" y=\"-23.078125\"/>\n   </g>\n   <g id=\"matplotlib.axis_1\">\n    <g id=\"xtick_1\">\n     <g id=\"line2d_1\">\n      <defs>\n       <path d=\"M 0 0 \nL 0 3.5 \n\" id=\"m35859ea430\" style=\"stroke:#000000;stroke-width:0.8;\"/>\n      </defs>\n      <g>\n       <use style=\"stroke:#000000;stroke-width:0.8;\" x=\"30.910714\" xlink:href=\"#m35859ea430\" y=\"247.078125\"/>\n      </g>\n     </g>\n     <g id=\"line2d_2\">\n      <defs>\n       <path d=\"M 0 0 \nL 0 -3.5 \n\" id=\"mc5580130f0\" style=\"stroke:#000000;stroke-width:0.8;\"/>\n      </defs>\n      <g>\n       <use style=\"stroke:#000000;stroke-width:0.8;\" x=\"30.910714\" xlink:href=\"#mc5580130f0\" y=\"23.878125\"/>\n      </g>\n     </g>\n     <g id=\"text_1\">\n      <!-- 0 -->\n      <defs>\n       <path d=\"M 31.78125 66.40625 \nQ 24.171875 66.40625 20.328125 58.90625 \nQ 16.5 51.421875 16.5 36.375 \nQ 16.5 21.390625 20.328125 13.890625 \nQ 24.171875 6.390625 31.78125 6.390625 \nQ 39.453125 6.390625 43.28125 13.890625 \nQ 47.125 21.390625 47.125 36.375 \nQ 47.125 51.421875 43.28125 58.90625 \nQ 39.453125 66.40625 31.78125 66.40625 \nz\nM 31.78125 74.21875 \nQ 44.046875 74.21875 50.515625 64.515625 \nQ 56.984375 54.828125 56.984375 36.375 \nQ 56.984375 17.96875 50.515625 8.265625 \nQ 44.046875 -1.421875 31.78125 -1.421875 \nQ 19.53125 -1.421875 13.0625 8.265625 \nQ 6.59375 17.96875 6.59375 36.375 \nQ 6.59375 54.828125 13.0625 64.515625 \nQ 19.53125 74.21875 31.78125 74.21875 \nz\n\" id=\"DejaVuSans-48\"/>\n      </defs>\n      <g transform=\"translate(27.729464 14.798438)scale(0.1 -0.1)\">\n       <use xlink:href=\"#DejaVuSans-48\"/>\n      </g>\n     </g>\n    </g>\n    <g id=\"xtick_2\">\n     <g id=\"line2d_3\">\n      <g>\n       <use style=\"stroke:#000000;stroke-width:0.8;\" x=\"70.767857\" xlink:href=\"#m35859ea430\" y=\"247.078125\"/>\n      </g>\n     </g>\n     <g id=\"line2d_4\">\n      <g>\n       <use style=\"stroke:#000000;stroke-width:0.8;\" x=\"70.767857\" xlink:href=\"#mc5580130f0\" y=\"23.878125\"/>\n      </g>\n     </g>\n     <g id=\"text_2\">\n      <!-- 5 -->\n      <defs>\n       <path d=\"M 10.796875 72.90625 \nL 49.515625 72.90625 \nL 49.515625 64.59375 \nL 19.828125 64.59375 \nL 19.828125 46.734375 \nQ 21.96875 47.46875 24.109375 47.828125 \nQ 26.265625 48.1875 28.421875 48.1875 \nQ 40.625 48.1875 47.75 41.5 \nQ 54.890625 34.8125 54.890625 23.390625 \nQ 54.890625 11.625 47.5625 5.09375 \nQ 40.234375 -1.421875 26.90625 -1.421875 \nQ 22.3125 -1.421875 17.546875 -0.640625 \nQ 12.796875 0.140625 7.71875 1.703125 \nL 7.71875 11.625 \nQ 12.109375 9.234375 16.796875 8.0625 \nQ 21.484375 6.890625 26.703125 6.890625 \nQ 35.15625 6.890625 40.078125 11.328125 \nQ 45.015625 15.765625 45.015625 23.390625 \nQ 45.015625 31 40.078125 35.4375 \nQ 35.15625 39.890625 26.703125 39.890625 \nQ 22.75 39.890625 18.8125 39.015625 \nQ 14.890625 38.140625 10.796875 36.28125 \nz\n\" id=\"DejaVuSans-53\"/>\n      </defs>\n      <g transform=\"translate(67.586607 14.798438)scale(0.1 -0.1)\">\n       <use xlink:href=\"#DejaVuSans-53\"/>\n      </g>\n     </g>\n    </g>\n    <g id=\"xtick_3\">\n     <g id=\"line2d_5\">\n      <g>\n       <use style=\"stroke:#000000;stroke-width:0.8;\" x=\"110.625\" xlink:href=\"#m35859ea430\" y=\"247.078125\"/>\n      </g>\n     </g>\n     <g id=\"line2d_6\">\n      <g>\n       <use style=\"stroke:#000000;stroke-width:0.8;\" x=\"110.625\" xlink:href=\"#mc5580130f0\" y=\"23.878125\"/>\n      </g>\n     </g>\n     <g id=\"text_3\">\n      <!-- 10 -->\n      <defs>\n       <path d=\"M 12.40625 8.296875 \nL 28.515625 8.296875 \nL 28.515625 63.921875 \nL 10.984375 60.40625 \nL 10.984375 69.390625 \nL 28.421875 72.90625 \nL 38.28125 72.90625 \nL 38.28125 8.296875 \nL 54.390625 8.296875 \nL 54.390625 0 \nL 12.40625 0 \nz\n\" id=\"DejaVuSans-49\"/>\n      </defs>\n      <g transform=\"translate(104.2625 14.798438)scale(0.1 -0.1)\">\n       <use xlink:href=\"#DejaVuSans-49\"/>\n       <use x=\"63.623047\" xlink:href=\"#DejaVuSans-48\"/>\n      </g>\n     </g>\n    </g>\n    <g id=\"xtick_4\">\n     <g id=\"line2d_7\">\n      <g>\n       <use style=\"stroke:#000000;stroke-width:0.8;\" x=\"150.482143\" xlink:href=\"#m35859ea430\" y=\"247.078125\"/>\n      </g>\n     </g>\n     <g id=\"line2d_8\">\n      <g>\n       <use style=\"stroke:#000000;stroke-width:0.8;\" x=\"150.482143\" xlink:href=\"#mc5580130f0\" y=\"23.878125\"/>\n      </g>\n     </g>\n     <g id=\"text_4\">\n      <!-- 15 -->\n      <g transform=\"translate(144.119643 14.798438)scale(0.1 -0.1)\">\n       <use xlink:href=\"#DejaVuSans-49\"/>\n       <use x=\"63.623047\" xlink:href=\"#DejaVuSans-53\"/>\n      </g>\n     </g>\n    </g>\n    <g id=\"xtick_5\">\n     <g id=\"line2d_9\">\n      <g>\n       <use style=\"stroke:#000000;stroke-width:0.8;\" x=\"190.339286\" xlink:href=\"#m35859ea430\" y=\"247.078125\"/>\n      </g>\n     </g>\n     <g id=\"line2d_10\">\n      <g>\n       <use style=\"stroke:#000000;stroke-width:0.8;\" x=\"190.339286\" xlink:href=\"#mc5580130f0\" y=\"23.878125\"/>\n      </g>\n     </g>\n     <g id=\"text_5\">\n      <!-- 20 -->\n      <defs>\n       <path d=\"M 19.1875 8.296875 \nL 53.609375 8.296875 \nL 53.609375 0 \nL 7.328125 0 \nL 7.328125 8.296875 \nQ 12.9375 14.109375 22.625 23.890625 \nQ 32.328125 33.6875 34.8125 36.53125 \nQ 39.546875 41.84375 41.421875 45.53125 \nQ 43.3125 49.21875 43.3125 52.78125 \nQ 43.3125 58.59375 39.234375 62.25 \nQ 35.15625 65.921875 28.609375 65.921875 \nQ 23.96875 65.921875 18.8125 64.3125 \nQ 13.671875 62.703125 7.8125 59.421875 \nL 7.8125 69.390625 \nQ 13.765625 71.78125 18.9375 73 \nQ 24.125 74.21875 28.421875 74.21875 \nQ 39.75 74.21875 46.484375 68.546875 \nQ 53.21875 62.890625 53.21875 53.421875 \nQ 53.21875 48.921875 51.53125 44.890625 \nQ 49.859375 40.875 45.40625 35.40625 \nQ 44.1875 33.984375 37.640625 27.21875 \nQ 31.109375 20.453125 19.1875 8.296875 \nz\n\" id=\"DejaVuSans-50\"/>\n      </defs>\n      <g transform=\"translate(183.976786 14.798438)scale(0.1 -0.1)\">\n       <use xlink:href=\"#DejaVuSans-50\"/>\n       <use x=\"63.623047\" xlink:href=\"#DejaVuSans-48\"/>\n      </g>\n     </g>\n    </g>\n    <g id=\"xtick_6\">\n     <g id=\"line2d_11\">\n      <g>\n       <use style=\"stroke:#000000;stroke-width:0.8;\" x=\"230.196429\" xlink:href=\"#m35859ea430\" y=\"247.078125\"/>\n      </g>\n     </g>\n     <g id=\"line2d_12\">\n      <g>\n       <use style=\"stroke:#000000;stroke-width:0.8;\" x=\"230.196429\" xlink:href=\"#mc5580130f0\" y=\"23.878125\"/>\n      </g>\n     </g>\n     <g id=\"text_6\">\n      <!-- 25 -->\n      <g transform=\"translate(223.833929 14.798438)scale(0.1 -0.1)\">\n       <use xlink:href=\"#DejaVuSans-50\"/>\n       <use x=\"63.623047\" xlink:href=\"#DejaVuSans-53\"/>\n      </g>\n     </g>\n    </g>\n   </g>\n   <g id=\"matplotlib.axis_2\">\n    <g id=\"ytick_1\">\n     <g id=\"line2d_13\">\n      <defs>\n       <path d=\"M 0 0 \nL -3.5 0 \n\" id=\"mb4b57a4023\" style=\"stroke:#000000;stroke-width:0.8;\"/>\n      </defs>\n      <g>\n       <use style=\"stroke:#000000;stroke-width:0.8;\" x=\"26.925\" xlink:href=\"#mb4b57a4023\" y=\"27.863839\"/>\n      </g>\n     </g>\n     <g id=\"text_7\">\n      <!-- 0 -->\n      <g transform=\"translate(13.5625 31.663058)scale(0.1 -0.1)\">\n       <use xlink:href=\"#DejaVuSans-48\"/>\n      </g>\n     </g>\n    </g>\n    <g id=\"ytick_2\">\n     <g id=\"line2d_14\">\n      <g>\n       <use style=\"stroke:#000000;stroke-width:0.8;\" x=\"26.925\" xlink:href=\"#mb4b57a4023\" y=\"67.720982\"/>\n      </g>\n     </g>\n     <g id=\"text_8\">\n      <!-- 5 -->\n      <g transform=\"translate(13.5625 71.520201)scale(0.1 -0.1)\">\n       <use xlink:href=\"#DejaVuSans-53\"/>\n      </g>\n     </g>\n    </g>\n    <g id=\"ytick_3\">\n     <g id=\"line2d_15\">\n      <g>\n       <use style=\"stroke:#000000;stroke-width:0.8;\" x=\"26.925\" xlink:href=\"#mb4b57a4023\" y=\"107.578125\"/>\n      </g>\n     </g>\n     <g id=\"text_9\">\n      <!-- 10 -->\n      <g transform=\"translate(7.2 111.377344)scale(0.1 -0.1)\">\n       <use xlink:href=\"#DejaVuSans-49\"/>\n       <use x=\"63.623047\" xlink:href=\"#DejaVuSans-48\"/>\n      </g>\n     </g>\n    </g>\n    <g id=\"ytick_4\">\n     <g id=\"line2d_16\">\n      <g>\n       <use style=\"stroke:#000000;stroke-width:0.8;\" x=\"26.925\" xlink:href=\"#mb4b57a4023\" y=\"147.435268\"/>\n      </g>\n     </g>\n     <g id=\"text_10\">\n      <!-- 15 -->\n      <g transform=\"translate(7.2 151.234487)scale(0.1 -0.1)\">\n       <use xlink:href=\"#DejaVuSans-49\"/>\n       <use x=\"63.623047\" xlink:href=\"#DejaVuSans-53\"/>\n      </g>\n     </g>\n    </g>\n    <g id=\"ytick_5\">\n     <g id=\"line2d_17\">\n      <g>\n       <use style=\"stroke:#000000;stroke-width:0.8;\" x=\"26.925\" xlink:href=\"#mb4b57a4023\" y=\"187.292411\"/>\n      </g>\n     </g>\n     <g id=\"text_11\">\n      <!-- 20 -->\n      <g transform=\"translate(7.2 191.091629)scale(0.1 -0.1)\">\n       <use xlink:href=\"#DejaVuSans-50\"/>\n       <use x=\"63.623047\" xlink:href=\"#DejaVuSans-48\"/>\n      </g>\n     </g>\n    </g>\n    <g id=\"ytick_6\">\n     <g id=\"line2d_18\">\n      <g>\n       <use style=\"stroke:#000000;stroke-width:0.8;\" x=\"26.925\" xlink:href=\"#mb4b57a4023\" y=\"227.149554\"/>\n      </g>\n     </g>\n     <g id=\"text_12\">\n      <!-- 25 -->\n      <g transform=\"translate(7.2 230.948772)scale(0.1 -0.1)\">\n       <use xlink:href=\"#DejaVuSans-50\"/>\n       <use x=\"63.623047\" xlink:href=\"#DejaVuSans-53\"/>\n      </g>\n     </g>\n    </g>\n   </g>\n   <g id=\"patch_3\">\n    <path d=\"M 26.925 247.078125 \nL 26.925 23.878125 \n\" style=\"fill:none;stroke:#000000;stroke-linecap:square;stroke-linejoin:miter;stroke-width:0.8;\"/>\n   </g>\n   <g id=\"patch_4\">\n    <path d=\"M 250.125 247.078125 \nL 250.125 23.878125 \n\" style=\"fill:none;stroke:#000000;stroke-linecap:square;stroke-linejoin:miter;stroke-width:0.8;\"/>\n   </g>\n   <g id=\"patch_5\">\n    <path d=\"M 26.925 247.078125 \nL 250.125 247.078125 \n\" style=\"fill:none;stroke:#000000;stroke-linecap:square;stroke-linejoin:miter;stroke-width:0.8;\"/>\n   </g>\n   <g id=\"patch_6\">\n    <path d=\"M 26.925 23.878125 \nL 250.125 23.878125 \n\" style=\"fill:none;stroke:#000000;stroke-linecap:square;stroke-linejoin:miter;stroke-width:0.8;\"/>\n   </g>\n  </g>\n </g>\n <defs>\n  <clipPath id=\"pec7a51611a\">\n   <rect height=\"223.2\" width=\"223.2\" x=\"26.925\" y=\"23.878125\"/>\n  </clipPath>\n </defs>\n</svg>\n",
      "image/png": "[encoded data removed]"
     },
     "metadata": {
      "needs_background": "light"
     }
    }
   ],
   "source": [
    "plt.matshow(mat2.corr())\n",
    "plt.show()"
   ]
  },
  {
   "cell_type": "code",
   "execution_count": 31,
   "metadata": {},
   "outputs": [],
   "source": [
    "mat3 = mat2"
   ]
  },
  {
   "cell_type": "code",
   "execution_count": 32,
   "metadata": {},
   "outputs": [],
   "source": [
    "mat2.to_csv('mat_clean.csv', index = False)"
   ]
  }
 ],
 "metadata": {
  "kernelspec": {
   "name": "python373jvsc74a57bd014ea72af40ee9339d6f8ad15aef067494a451ba105d6a0c8fbc9d65e956b1bca",
   "display_name": "Python 3.7.3 64-bit ('base': conda)"
  },
  "language_info": {
   "codemirror_mode": {
    "name": "ipython",
    "version": 3
   },
   "file_extension": ".py",
   "mimetype": "text/x-python",
   "name": "python",
   "nbconvert_exporter": "python",
   "pygments_lexer": "ipython3",
   "version": "3.7.3"
  }
 },
 "nbformat": 4,
 "nbformat_minor": 2
}